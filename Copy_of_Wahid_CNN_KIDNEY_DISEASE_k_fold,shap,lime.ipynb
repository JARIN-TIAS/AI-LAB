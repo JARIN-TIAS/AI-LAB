{
  "metadata": {
    "kernelspec": {
      "name": "python3",
      "display_name": "Python 3",
      "language": "python"
    },
    "language_info": {
      "codemirror_mode": {
        "name": "ipython",
        "version": 3
      },
      "file_extension": ".py",
      "mimetype": "text/x-python",
      "name": "python",
      "nbconvert_exporter": "python",
      "pygments_lexer": "ipython3",
      "version": "3.10.13"
    },
    "accelerator": "GPU",
    "colab": {
      "gpuType": "T4",
      "provenance": []
    },
    "kaggle": {
      "accelerator": "nvidiaTeslaT4",
      "dataSources": [
        {
          "sourceId": 2764486,
          "sourceType": "datasetVersion",
          "datasetId": 1686903
        },
        {
          "sourceId": 7680281,
          "sourceType": "datasetVersion",
          "datasetId": 4480804
        },
        {
          "sourceId": 7736336,
          "sourceType": "datasetVersion",
          "datasetId": 4521283
        }
      ],
      "dockerImageVersionId": 30648,
      "isInternetEnabled": true,
      "language": "python",
      "sourceType": "notebook",
      "isGpuEnabled": true
    },
    "papermill": {
      "default_parameters": {},
      "duration": 1122.44324,
      "end_time": "2024-02-18T18:51:13.88859",
      "environment_variables": {},
      "exception": null,
      "input_path": "__notebook__.ipynb",
      "output_path": "__notebook__.ipynb",
      "parameters": {},
      "start_time": "2024-02-18T18:32:31.44535",
      "version": "2.5.0"
    }
  },
  "nbformat_minor": 0,
  "nbformat": 4,
  "cells": [
    {
      "source": [
        "# IMPORTANT: RUN THIS CELL IN ORDER TO IMPORT YOUR KAGGLE DATA SOURCES,\n",
        "# THEN FEEL FREE TO DELETE THIS CELL.\n",
        "# NOTE: THIS NOTEBOOK ENVIRONMENT DIFFERS FROM KAGGLE'S PYTHON\n",
        "# ENVIRONMENT SO THERE MAY BE MISSING LIBRARIES USED BY YOUR\n",
        "# NOTEBOOK.\n",
        "import kagglehub\n",
        "nazmul0087_ct_kidney_dataset_normal_cyst_tumor_and_stone_path = kagglehub.dataset_download('nazmul0087/ct-kidney-dataset-normal-cyst-tumor-and-stone')\n",
        "\n",
        "print('Data source import complete.')\n"
      ],
      "metadata": {
        "id": "8LxkMxev7Arl"
      },
      "cell_type": "code",
      "outputs": [],
      "execution_count": null
    },
    {
      "cell_type": "code",
      "source": [
        "import os\n",
        "for dirname, _, filenames in os.walk('/kaggle/input'):\n",
        "    for filename in filenames:\n",
        "        os.path.join(dirname, filename)"
      ],
      "metadata": {
        "id": "9064b9cb",
        "execution": {
          "iopub.status.busy": "2024-03-08T03:58:26.772213Z",
          "iopub.execute_input": "2024-03-08T03:58:26.77256Z",
          "iopub.status.idle": "2024-03-08T03:58:40.961097Z",
          "shell.execute_reply.started": "2024-03-08T03:58:26.772531Z",
          "shell.execute_reply": "2024-03-08T03:58:40.960313Z"
        },
        "trusted": true
      },
      "outputs": [],
      "execution_count": null
    },
    {
      "cell_type": "code",
      "source": [],
      "metadata": {
        "id": "jc4B3sphWYK_",
        "trusted": true
      },
      "outputs": [],
      "execution_count": null
    },
    {
      "cell_type": "code",
      "source": [
        "import pandas as pd\n",
        "import numpy as np\n",
        "import keras\n",
        "import warnings\n",
        "warnings.filterwarnings(action=\"ignore\")\n",
        "import matplotlib.pyplot as plt\n",
        "%matplotlib inline\n",
        "\n",
        "from keras.models import Sequential\n",
        "from keras.layers import Dense, Dropout, Flatten\n",
        "from keras.layers import Conv2D, MaxPooling2D\n",
        "from keras import backend as K\n",
        "\n",
        "from sklearn.preprocessing import StandardScaler\n",
        "from sklearn.model_selection import train_test_split\n",
        "from sklearn.metrics import classification_report\n",
        "import tensorflow as tf\n",
        "from tensorflow import keras\n",
        "from tensorflow.keras.models import Sequential\n",
        "from tensorflow.keras.layers import Conv2D, MaxPooling2D, Flatten, Dense\n",
        "from tensorflow.keras.applications.vgg19 import VGG19\n",
        "from tensorflow.keras.optimizers import Adam\n",
        "from tensorflow.keras.losses import SparseCategoricalCrossentropy\n",
        "from keras.preprocessing.image import ImageDataGenerator\n",
        "from tensorflow.keras.callbacks import TensorBoard,EarlyStopping\n",
        "\n",
        "import sklearn.metrics as metrics\n",
        "from keras.callbacks import LearningRateScheduler\n",
        "from keras.preprocessing.image import ImageDataGenerator\n",
        "annealer = LearningRateScheduler(lambda x: 1e-3 * 0.95 ** x, verbose=0)"
      ],
      "metadata": {
        "id": "a8a2990c",
        "execution": {
          "iopub.status.busy": "2024-03-08T03:58:44.507839Z",
          "iopub.execute_input": "2024-03-08T03:58:44.508635Z",
          "iopub.status.idle": "2024-03-08T03:59:04.701342Z",
          "shell.execute_reply.started": "2024-03-08T03:58:44.508603Z",
          "shell.execute_reply": "2024-03-08T03:59:04.700203Z"
        },
        "trusted": true,
        "outputId": "9fa2d6d7-36d0-4c3f-ecb5-dfb4d37e773f"
      },
      "outputs": [
        {
          "name": "stderr",
          "text": "2024-03-08 03:58:48.257379: E external/local_xla/xla/stream_executor/cuda/cuda_dnn.cc:9261] Unable to register cuDNN factory: Attempting to register factory for plugin cuDNN when one has already been registered\n2024-03-08 03:58:48.257519: E external/local_xla/xla/stream_executor/cuda/cuda_fft.cc:607] Unable to register cuFFT factory: Attempting to register factory for plugin cuFFT when one has already been registered\n2024-03-08 03:58:48.505620: E external/local_xla/xla/stream_executor/cuda/cuda_blas.cc:1515] Unable to register cuBLAS factory: Attempting to register factory for plugin cuBLAS when one has already been registered\n",
          "output_type": "stream"
        }
      ],
      "execution_count": null
    },
    {
      "cell_type": "code",
      "source": [
        "import os\n",
        "import pandas as pd\n",
        "\n",
        "Cyst_dir = [ r'/kaggle/input/ct-kidney-dataset-normal-cyst-tumor-and-stone/CT-KIDNEY-DATASET-Normal-Cyst-Tumor-Stone/CT-KIDNEY-DATASET-Normal-Cyst-Tumor-Stone/Cyst']\n",
        "\n",
        "Normal_dirs = [\n",
        "    r'/kaggle/input/ct-kidney-dataset-normal-cyst-tumor-and-stone/CT-KIDNEY-DATASET-Normal-Cyst-Tumor-Stone/CT-KIDNEY-DATASET-Normal-Cyst-Tumor-Stone/Normal'\n",
        "]\n",
        "\n",
        "Stone_dirs = [\n",
        "    r'/kaggle/input/ct-kidney-dataset-normal-cyst-tumor-and-stone/CT-KIDNEY-DATASET-Normal-Cyst-Tumor-Stone/CT-KIDNEY-DATASET-Normal-Cyst-Tumor-Stone/Stone'\n",
        "]\n",
        "\n",
        "Tumor_dirs = [\n",
        "    r'/kaggle/input/ct-kidney-dataset-normal-cyst-tumor-and-stone/CT-KIDNEY-DATASET-Normal-Cyst-Tumor-Stone/CT-KIDNEY-DATASET-Normal-Cyst-Tumor-Stone/Tumor'\n",
        "]\n",
        "\n",
        "filepaths = []\n",
        "labels = []\n",
        "dict_lists = [Cyst_dir, Normal_dirs,Stone_dirs, Tumor_dirs]\n",
        "class_labels = ['Cyst', 'Normal', 'Stone', 'Tumor']"
      ],
      "metadata": {
        "id": "fa2e5119",
        "execution": {
          "iopub.status.busy": "2024-03-08T04:00:09.10297Z",
          "iopub.execute_input": "2024-03-08T04:00:09.103807Z",
          "iopub.status.idle": "2024-03-08T04:00:09.109527Z",
          "shell.execute_reply.started": "2024-03-08T04:00:09.103777Z",
          "shell.execute_reply": "2024-03-08T04:00:09.108541Z"
        },
        "trusted": true
      },
      "outputs": [],
      "execution_count": null
    },
    {
      "cell_type": "code",
      "source": [
        "for i, dir_list in enumerate(dict_lists):\n",
        "    for j in dir_list:\n",
        "        flist = os.listdir(j)\n",
        "        for f in flist:\n",
        "            fpath = os.path.join(j, f)\n",
        "            filepaths.append(fpath)\n",
        "            labels.append(class_labels[i])\n",
        "\n",
        "Fseries = pd.Series(filepaths, name=\"filepaths\")\n",
        "Lseries = pd.Series(labels, name=\"labels\")\n",
        "KIDNEY_data = pd.concat([Fseries, Lseries], axis=1)\n",
        "KIDNEY_df = pd.DataFrame(KIDNEY_data)\n",
        "print(KIDNEY_df.head())\n",
        "print(KIDNEY_df[\"labels\"].value_counts())"
      ],
      "metadata": {
        "id": "3639b4bf",
        "outputId": "6004098d-75f3-420b-b025-36ee022cb12a",
        "execution": {
          "iopub.status.busy": "2024-03-08T04:00:13.69779Z",
          "iopub.execute_input": "2024-03-08T04:00:13.698185Z",
          "iopub.status.idle": "2024-03-08T04:00:13.776451Z",
          "shell.execute_reply.started": "2024-03-08T04:00:13.698154Z",
          "shell.execute_reply": "2024-03-08T04:00:13.775523Z"
        },
        "trusted": true
      },
      "outputs": [
        {
          "name": "stdout",
          "text": "                                           filepaths labels\n0  /kaggle/input/ct-kidney-dataset-normal-cyst-tu...   Cyst\n1  /kaggle/input/ct-kidney-dataset-normal-cyst-tu...   Cyst\n2  /kaggle/input/ct-kidney-dataset-normal-cyst-tu...   Cyst\n3  /kaggle/input/ct-kidney-dataset-normal-cyst-tu...   Cyst\n4  /kaggle/input/ct-kidney-dataset-normal-cyst-tu...   Cyst\nlabels\nNormal    5077\nCyst      3709\nTumor     2283\nStone     1377\nName: count, dtype: int64\n",
          "output_type": "stream"
        }
      ],
      "execution_count": null
    },
    {
      "cell_type": "code",
      "source": [
        "KIDNEY_df.shape"
      ],
      "metadata": {
        "id": "0d4ae4f6",
        "execution": {
          "iopub.status.busy": "2024-03-07T16:20:29.384548Z",
          "iopub.execute_input": "2024-03-07T16:20:29.384914Z",
          "iopub.status.idle": "2024-03-07T16:20:29.391414Z",
          "shell.execute_reply.started": "2024-03-07T16:20:29.38489Z",
          "shell.execute_reply": "2024-03-07T16:20:29.39053Z"
        },
        "trusted": true
      },
      "outputs": [],
      "execution_count": null
    },
    {
      "cell_type": "code",
      "source": [
        "train_images, test_images = train_test_split(KIDNEY_df, test_size=0.3, random_state=42)\n",
        "train_set, val_set = train_test_split(KIDNEY_df, test_size=0.2, random_state=42)"
      ],
      "metadata": {
        "id": "a160dd04",
        "execution": {
          "iopub.status.busy": "2024-03-08T04:00:17.643364Z",
          "iopub.execute_input": "2024-03-08T04:00:17.644608Z",
          "iopub.status.idle": "2024-03-08T04:00:17.661136Z",
          "shell.execute_reply.started": "2024-03-08T04:00:17.644531Z",
          "shell.execute_reply": "2024-03-08T04:00:17.660028Z"
        },
        "trusted": true
      },
      "outputs": [],
      "execution_count": null
    },
    {
      "cell_type": "code",
      "source": [
        "print(train_set.shape)\n",
        "print(test_images.shape)\n",
        "print(val_set.shape)\n",
        "print(train_images.shape)"
      ],
      "metadata": {
        "id": "c709c814",
        "execution": {
          "iopub.status.busy": "2024-03-07T16:20:29.408426Z",
          "iopub.execute_input": "2024-03-07T16:20:29.408712Z",
          "iopub.status.idle": "2024-03-07T16:20:29.414027Z",
          "shell.execute_reply.started": "2024-03-07T16:20:29.408687Z",
          "shell.execute_reply": "2024-03-07T16:20:29.413109Z"
        },
        "trusted": true
      },
      "outputs": [],
      "execution_count": null
    },
    {
      "cell_type": "code",
      "source": [
        "image_gen = ImageDataGenerator(preprocessing_function= tf.keras.applications.mobilenet_v2.preprocess_input)\n",
        "train = image_gen.flow_from_dataframe(dataframe= train_set,x_col=\"filepaths\",y_col=\"labels\",\n",
        "                                      target_size=(244,244),\n",
        "                                      color_mode='rgb',\n",
        "                                      class_mode=\"categorical\",\n",
        "                                      batch_size=8,\n",
        "                                      shuffle=False\n",
        "                                     )\n",
        "test = image_gen.flow_from_dataframe(dataframe= test_images,x_col=\"filepaths\", y_col=\"labels\",\n",
        "                                     target_size=(244,244),\n",
        "                                     color_mode='rgb',\n",
        "                                     class_mode=\"categorical\",\n",
        "                                     batch_size=8,\n",
        "                                     shuffle= False\n",
        "                                    )\n",
        "val = image_gen.flow_from_dataframe(dataframe= val_set,x_col=\"filepaths\", y_col=\"labels\",\n",
        "                                    target_size=(244,244),\n",
        "                                    color_mode= 'rgb',\n",
        "                                    class_mode=\"categorical\",\n",
        "                                    batch_size=8,\n",
        "                                    shuffle=False\n",
        "                                   )"
      ],
      "metadata": {
        "id": "7361c5e2",
        "outputId": "0566fbd6-9d9e-46b5-c64a-031f5e23bc38",
        "execution": {
          "iopub.status.busy": "2024-03-08T04:00:25.459681Z",
          "iopub.execute_input": "2024-03-08T04:00:25.4605Z",
          "iopub.status.idle": "2024-03-08T04:00:40.731414Z",
          "shell.execute_reply.started": "2024-03-08T04:00:25.460454Z",
          "shell.execute_reply": "2024-03-08T04:00:40.73054Z"
        },
        "trusted": true
      },
      "outputs": [
        {
          "name": "stdout",
          "text": "Found 9956 validated image filenames belonging to 4 classes.\nFound 3734 validated image filenames belonging to 4 classes.\nFound 2490 validated image filenames belonging to 4 classes.\n",
          "output_type": "stream"
        }
      ],
      "execution_count": null
    },
    {
      "cell_type": "code",
      "source": [
        "classes=list(train.class_indices.keys())\n",
        "print (classes)"
      ],
      "metadata": {
        "id": "b2c0a13a",
        "execution": {
          "iopub.status.busy": "2024-03-07T16:20:36.624328Z",
          "iopub.execute_input": "2024-03-07T16:20:36.624738Z",
          "iopub.status.idle": "2024-03-07T16:20:36.631048Z",
          "shell.execute_reply.started": "2024-03-07T16:20:36.624703Z",
          "shell.execute_reply": "2024-03-07T16:20:36.629348Z"
        },
        "trusted": true
      },
      "outputs": [],
      "execution_count": null
    },
    {
      "cell_type": "code",
      "source": [
        "def show_KIDNEY_images(image_gen):\n",
        "    test_dict = test.class_indices\n",
        "    classes = list(test_dict.keys())\n",
        "    images, labels=next(image_gen) # get a sample batch from the generator\n",
        "    plt.figure(figsize=(20,20))\n",
        "    length = len(labels)\n",
        "    if length<25:\n",
        "        r=length\n",
        "    else:\n",
        "        r=25\n",
        "    for i in range(r):\n",
        "        plt.subplot(5,5,i+1)\n",
        "        image=(images[i]+1)/2 #scale images between 0 and 1\n",
        "        plt.imshow(image)\n",
        "        index=np.argmax(labels[i])\n",
        "        class_name=classes[index]\n",
        "        plt.title(class_name, color=\"green\",fontsize=16)\n",
        "        plt.axis('off')\n",
        "    plt.show()\n",
        "show_KIDNEY_images(train)"
      ],
      "metadata": {
        "id": "9a618be8",
        "execution": {
          "iopub.status.busy": "2024-03-07T16:20:36.632349Z",
          "iopub.execute_input": "2024-03-07T16:20:36.633072Z",
          "iopub.status.idle": "2024-03-07T16:20:37.5207Z",
          "shell.execute_reply.started": "2024-03-07T16:20:36.633009Z",
          "shell.execute_reply": "2024-03-07T16:20:37.519712Z"
        },
        "trusted": true
      },
      "outputs": [],
      "execution_count": null
    },
    {
      "cell_type": "code",
      "source": [
        "model = keras.models.Sequential([\n",
        "    keras.layers.Conv2D(filters=128, kernel_size=(8, 8), strides=(3, 3), activation='relu', input_shape=(224, 224, 3)),\n",
        "    keras.layers.BatchNormalization(),\n",
        "\n",
        "    keras.layers.Conv2D(filters=256, kernel_size=(5, 5), strides=(1, 1), activation='relu', padding=\"same\"),\n",
        "    keras.layers.BatchNormalization(),\n",
        "    keras.layers.MaxPool2D(pool_size=(3, 3)),\n",
        "\n",
        "    keras.layers.Conv2D(filters=256, kernel_size=(3, 3), strides=(1, 1), activation='relu', padding=\"same\"),\n",
        "    keras.layers.BatchNormalization(),\n",
        "    keras.layers.Conv2D(filters=256, kernel_size=(1, 1), strides=(1, 1), activation='relu', padding=\"same\"),\n",
        "    keras.layers.BatchNormalization(),\n",
        "    keras.layers.Conv2D(filters=256, kernel_size=(1, 1), strides=(1, 1), activation='relu', padding=\"same\"),\n",
        "    keras.layers.BatchNormalization(),\n",
        "\n",
        "    keras.layers.Conv2D(filters=512, kernel_size=(3, 3), activation='relu', padding=\"same\"),\n",
        "    keras.layers.BatchNormalization(),\n",
        "    keras.layers.MaxPool2D(pool_size=(2, 2)),\n",
        "\n",
        "    keras.layers.Conv2D(filters=512, kernel_size=(3, 3), activation='relu', padding=\"same\"),\n",
        "    keras.layers.BatchNormalization(),\n",
        "\n",
        "    keras.layers.Conv2D(filters=512, kernel_size=(3, 3), activation='relu', padding=\"same\"),\n",
        "    keras.layers.BatchNormalization(),\n",
        "\n",
        "    keras.layers.MaxPool2D(pool_size=(2, 2)),\n",
        "\n",
        "    keras.layers.Conv2D(filters=512, kernel_size=(3, 3), activation='relu', padding=\"same\"),\n",
        "    keras.layers.BatchNormalization(),\n",
        "\n",
        "    keras.layers.MaxPool2D(pool_size=(2, 2)),\n",
        "\n",
        "    keras.layers.Flatten(),\n",
        "    keras.layers.Dense(1024, activation='relu'),\n",
        "    keras.layers.Dropout(0.5),\n",
        "    keras.layers.Dense(1024, activation='relu'),\n",
        "    keras.layers.Dropout(0.5),\n",
        "    keras.layers.Dense(4, activation='softmax')\n",
        "])\n",
        "\n",
        "model.compile(\n",
        "    loss='categorical_crossentropy',\n",
        "    optimizer=tf.optimizers.SGD(learning_rate=0.001),\n",
        "    metrics=['accuracy']\n",
        ")\n",
        "\n",
        "model.summary()"
      ],
      "metadata": {
        "id": "5dcd9e6a",
        "outputId": "def49f91-fa52-4464-dcf3-22d8df26b552",
        "execution": {
          "iopub.status.busy": "2024-03-08T04:01:59.307577Z",
          "iopub.execute_input": "2024-03-08T04:01:59.308426Z",
          "iopub.status.idle": "2024-03-08T04:02:00.860638Z",
          "shell.execute_reply.started": "2024-03-08T04:01:59.308392Z",
          "shell.execute_reply": "2024-03-08T04:02:00.859771Z"
        },
        "trusted": true
      },
      "outputs": [
        {
          "name": "stdout",
          "text": "Model: \"sequential\"\n_________________________________________________________________\n Layer (type)                Output Shape              Param #   \n=================================================================\n conv2d (Conv2D)             (None, 73, 73, 128)       24704     \n                                                                 \n batch_normalization (Batch  (None, 73, 73, 128)       512       \n Normalization)                                                  \n                                                                 \n conv2d_1 (Conv2D)           (None, 73, 73, 256)       819456    \n                                                                 \n batch_normalization_1 (Bat  (None, 73, 73, 256)       1024      \n chNormalization)                                                \n                                                                 \n max_pooling2d (MaxPooling2  (None, 24, 24, 256)       0         \n D)                                                              \n                                                                 \n conv2d_2 (Conv2D)           (None, 24, 24, 256)       590080    \n                                                                 \n batch_normalization_2 (Bat  (None, 24, 24, 256)       1024      \n chNormalization)                                                \n                                                                 \n conv2d_3 (Conv2D)           (None, 24, 24, 256)       65792     \n                                                                 \n batch_normalization_3 (Bat  (None, 24, 24, 256)       1024      \n chNormalization)                                                \n                                                                 \n conv2d_4 (Conv2D)           (None, 24, 24, 256)       65792     \n                                                                 \n batch_normalization_4 (Bat  (None, 24, 24, 256)       1024      \n chNormalization)                                                \n                                                                 \n conv2d_5 (Conv2D)           (None, 24, 24, 512)       1180160   \n                                                                 \n batch_normalization_5 (Bat  (None, 24, 24, 512)       2048      \n chNormalization)                                                \n                                                                 \n max_pooling2d_1 (MaxPoolin  (None, 12, 12, 512)       0         \n g2D)                                                            \n                                                                 \n conv2d_6 (Conv2D)           (None, 12, 12, 512)       2359808   \n                                                                 \n batch_normalization_6 (Bat  (None, 12, 12, 512)       2048      \n chNormalization)                                                \n                                                                 \n conv2d_7 (Conv2D)           (None, 12, 12, 512)       2359808   \n                                                                 \n batch_normalization_7 (Bat  (None, 12, 12, 512)       2048      \n chNormalization)                                                \n                                                                 \n max_pooling2d_2 (MaxPoolin  (None, 6, 6, 512)         0         \n g2D)                                                            \n                                                                 \n conv2d_8 (Conv2D)           (None, 6, 6, 512)         2359808   \n                                                                 \n batch_normalization_8 (Bat  (None, 6, 6, 512)         2048      \n chNormalization)                                                \n                                                                 \n max_pooling2d_3 (MaxPoolin  (None, 3, 3, 512)         0         \n g2D)                                                            \n                                                                 \n flatten (Flatten)           (None, 4608)              0         \n                                                                 \n dense (Dense)               (None, 1024)              4719616   \n                                                                 \n dropout (Dropout)           (None, 1024)              0         \n                                                                 \n dense_1 (Dense)             (None, 1024)              1049600   \n                                                                 \n dropout_1 (Dropout)         (None, 1024)              0         \n                                                                 \n dense_2 (Dense)             (None, 4)                 4100      \n                                                                 \n=================================================================\nTotal params: 15611524 (59.55 MB)\nTrainable params: 15605124 (59.53 MB)\nNon-trainable params: 6400 (25.00 KB)\n_________________________________________________________________\n",
          "output_type": "stream"
        }
      ],
      "execution_count": null
    },
    {
      "cell_type": "code",
      "source": [
        "from keras.utils import plot_model\n",
        "\n",
        "plot_model(model, to_file='model_plot.png', show_shapes=True, show_layer_names=True)"
      ],
      "metadata": {
        "id": "65fd322a",
        "execution": {
          "iopub.status.busy": "2024-03-07T16:20:38.763691Z",
          "iopub.execute_input": "2024-03-07T16:20:38.763979Z",
          "iopub.status.idle": "2024-03-07T16:20:39.155164Z",
          "shell.execute_reply.started": "2024-03-07T16:20:38.763953Z",
          "shell.execute_reply": "2024-03-07T16:20:39.154228Z"
        },
        "trusted": true
      },
      "outputs": [],
      "execution_count": null
    },
    {
      "cell_type": "code",
      "source": [
        "history = model.fit(train, epochs=10, validation_data=val, verbose=1)"
      ],
      "metadata": {
        "id": "169e7cb5",
        "execution": {
          "iopub.status.busy": "2024-03-07T16:20:39.156265Z",
          "iopub.execute_input": "2024-03-07T16:20:39.15654Z",
          "iopub.status.idle": "2024-03-07T16:36:49.118909Z",
          "shell.execute_reply.started": "2024-03-07T16:20:39.156518Z",
          "shell.execute_reply": "2024-03-07T16:36:49.117929Z"
        },
        "trusted": true
      },
      "outputs": [],
      "execution_count": null
    },
    {
      "cell_type": "code",
      "source": [
        "history1 = model.fit(train, epochs=1, validation_data=val, verbose=1)"
      ],
      "metadata": {
        "id": "f9adab8e",
        "execution": {
          "iopub.status.busy": "2024-03-07T16:36:49.123925Z",
          "iopub.execute_input": "2024-03-07T16:36:49.124554Z",
          "iopub.status.idle": "2024-03-07T16:38:20.607668Z",
          "shell.execute_reply.started": "2024-03-07T16:36:49.124527Z",
          "shell.execute_reply": "2024-03-07T16:38:20.606874Z"
        },
        "trusted": true
      },
      "outputs": [],
      "execution_count": null
    },
    {
      "cell_type": "code",
      "source": [
        "model.evaluate(test, verbose=1)"
      ],
      "metadata": {
        "id": "4465f68d",
        "execution": {
          "iopub.status.busy": "2024-03-07T16:38:20.610259Z",
          "iopub.execute_input": "2024-03-07T16:38:20.610542Z",
          "iopub.status.idle": "2024-03-07T16:38:39.962077Z",
          "shell.execute_reply.started": "2024-03-07T16:38:20.610517Z",
          "shell.execute_reply": "2024-03-07T16:38:39.961179Z"
        },
        "trusted": true
      },
      "outputs": [],
      "execution_count": null
    },
    {
      "cell_type": "code",
      "source": [
        "model.save(\"KIDNEY-Diseases.h5\")"
      ],
      "metadata": {
        "id": "0320b7a7",
        "execution": {
          "iopub.status.busy": "2024-03-07T16:38:39.963481Z",
          "iopub.execute_input": "2024-03-07T16:38:39.964143Z",
          "iopub.status.idle": "2024-03-07T16:38:40.257006Z",
          "shell.execute_reply.started": "2024-03-07T16:38:39.96411Z",
          "shell.execute_reply": "2024-03-07T16:38:40.256209Z"
        },
        "trusted": true
      },
      "outputs": [],
      "execution_count": null
    },
    {
      "cell_type": "code",
      "source": [
        "pred = model.predict(test)\n",
        "pred = np.argmax(pred, axis=1)\n",
        "\n",
        "labels = (train.class_indices)\n",
        "labels = dict((v,k) for k,v in labels.items())\n",
        "pred2 = [labels[k] for k in pred]"
      ],
      "metadata": {
        "id": "afaaf7e9",
        "execution": {
          "iopub.status.busy": "2024-03-07T16:38:40.258248Z",
          "iopub.execute_input": "2024-03-07T16:38:40.258647Z",
          "iopub.status.idle": "2024-03-07T16:38:58.56754Z",
          "shell.execute_reply.started": "2024-03-07T16:38:40.258611Z",
          "shell.execute_reply": "2024-03-07T16:38:58.566393Z"
        },
        "trusted": true
      },
      "outputs": [],
      "execution_count": null
    },
    {
      "cell_type": "code",
      "source": [
        "plt.plot(history.history['accuracy'] + history1.history['accuracy'])\n",
        "plt.plot(history.history['val_accuracy'] + history1.history['val_accuracy'])\n",
        "plt.title('model accuracy')\n",
        "plt.ylabel('accuracy')\n",
        "plt.xlabel('epoch')\n",
        "plt.legend(['train', 'val'], loc='upper left')\n",
        "plt.show()"
      ],
      "metadata": {
        "id": "e52bd818",
        "execution": {
          "iopub.status.busy": "2024-03-07T16:38:58.568948Z",
          "iopub.execute_input": "2024-03-07T16:38:58.569706Z",
          "iopub.status.idle": "2024-03-07T16:38:58.790466Z",
          "shell.execute_reply.started": "2024-03-07T16:38:58.56967Z",
          "shell.execute_reply": "2024-03-07T16:38:58.789513Z"
        },
        "trusted": true
      },
      "outputs": [],
      "execution_count": null
    },
    {
      "cell_type": "code",
      "source": [
        "plt.plot(history.history['loss'] + history1.history['loss'])\n",
        "plt.plot(history.history['val_loss'] + history1.history['val_loss'])\n",
        "plt.title('model loss')\n",
        "plt.ylabel('loss')\n",
        "plt.xlabel('epoch')\n",
        "plt.legend(['train', 'val'], loc='upper left')\n",
        "plt.show()"
      ],
      "metadata": {
        "id": "caaa2340",
        "execution": {
          "iopub.status.busy": "2024-03-07T16:38:58.791822Z",
          "iopub.execute_input": "2024-03-07T16:38:58.792252Z",
          "iopub.status.idle": "2024-03-07T16:38:59.014216Z",
          "shell.execute_reply.started": "2024-03-07T16:38:58.792219Z",
          "shell.execute_reply": "2024-03-07T16:38:59.013282Z"
        },
        "trusted": true
      },
      "outputs": [],
      "execution_count": null
    },
    {
      "cell_type": "code",
      "source": [
        "from sklearn.metrics import confusion_matrix, accuracy_score\n",
        "\n",
        "y_test = test_images.labels # set y_test to the expected output\n",
        "print(classification_report(y_test, pred2))\n",
        "print(\"Accuracy of the Model:\",\"{:.1f}%\".format(accuracy_score(y_test, pred2)*100))"
      ],
      "metadata": {
        "id": "41d81ca3",
        "execution": {
          "iopub.status.busy": "2024-03-07T16:38:59.015376Z",
          "iopub.execute_input": "2024-03-07T16:38:59.015679Z",
          "iopub.status.idle": "2024-03-07T16:38:59.136147Z",
          "shell.execute_reply.started": "2024-03-07T16:38:59.015654Z",
          "shell.execute_reply": "2024-03-07T16:38:59.135094Z"
        },
        "trusted": true
      },
      "outputs": [],
      "execution_count": null
    },
    {
      "cell_type": "code",
      "source": [
        "import matplotlib.pyplot as plt\n",
        "import seaborn as sns\n",
        "from sklearn.metrics import confusion_matrix\n",
        "\n",
        "class_labels = ['Cyst', 'Normal', 'Stone', 'Tumor']\n",
        "\n",
        "\n",
        "cm = confusion_matrix(y_test, pred2)\n",
        "\n",
        "plt.figure(figsize=(10, 7))\n",
        "sns.heatmap(cm, annot=True, fmt='g', vmin=0, cmap='Blues')\n",
        "\n",
        "plt.xticks(ticks=[0.5, 1.5, 2.5, 3.5], labels=class_labels)\n",
        "plt.yticks(ticks=[0.5, 1.5, 2.5, 3.5], labels=class_labels)\n",
        "plt.xlabel(\"Predicted\")\n",
        "plt.ylabel(\"Actual\")\n",
        "\n",
        "plt.title(\"Confusion Matrix\")\n",
        "\n",
        "plt.show()"
      ],
      "metadata": {
        "id": "6e227199",
        "execution": {
          "iopub.status.busy": "2024-03-07T16:38:59.137496Z",
          "iopub.execute_input": "2024-03-07T16:38:59.138833Z",
          "iopub.status.idle": "2024-03-07T16:38:59.600024Z",
          "shell.execute_reply.started": "2024-03-07T16:38:59.138805Z",
          "shell.execute_reply": "2024-03-07T16:38:59.599074Z"
        },
        "trusted": true
      },
      "outputs": [],
      "execution_count": null
    },
    {
      "cell_type": "code",
      "source": [],
      "metadata": {
        "id": "50077b2b"
      },
      "outputs": [],
      "execution_count": null
    },
    {
      "cell_type": "code",
      "source": [
        "pip install shap"
      ],
      "metadata": {
        "id": "8363ef2c",
        "execution": {
          "iopub.status.busy": "2024-03-07T16:38:59.601422Z",
          "iopub.execute_input": "2024-03-07T16:38:59.602386Z",
          "iopub.status.idle": "2024-03-07T16:39:12.866079Z",
          "shell.execute_reply.started": "2024-03-07T16:38:59.602348Z",
          "shell.execute_reply": "2024-03-07T16:39:12.864956Z"
        },
        "trusted": true
      },
      "outputs": [],
      "execution_count": null
    },
    {
      "cell_type": "code",
      "source": [],
      "metadata": {
        "id": "fd_jnIPMeQE-",
        "trusted": true
      },
      "outputs": [],
      "execution_count": null
    },
    {
      "cell_type": "code",
      "source": [],
      "metadata": {
        "id": "jv_c-XE6vbO5",
        "trusted": true
      },
      "outputs": [],
      "execution_count": null
    },
    {
      "cell_type": "code",
      "source": [
        "pip install lime"
      ],
      "metadata": {
        "id": "Y1O82w8G__lw",
        "execution": {
          "iopub.status.busy": "2024-03-07T16:52:31.145849Z",
          "iopub.execute_input": "2024-03-07T16:52:31.146631Z",
          "iopub.status.idle": "2024-03-07T16:52:43.828202Z",
          "shell.execute_reply.started": "2024-03-07T16:52:31.146601Z",
          "shell.execute_reply": "2024-03-07T16:52:43.827035Z"
        },
        "trusted": true
      },
      "outputs": [],
      "execution_count": null
    },
    {
      "cell_type": "code",
      "source": [],
      "metadata": {
        "execution": {
          "iopub.status.busy": "2024-03-07T17:36:27.289351Z",
          "iopub.execute_input": "2024-03-07T17:36:27.289788Z",
          "iopub.status.idle": "2024-03-07T17:36:39.835422Z",
          "shell.execute_reply.started": "2024-03-07T17:36:27.289756Z",
          "shell.execute_reply": "2024-03-07T17:36:39.834175Z"
        },
        "trusted": true,
        "id": "LYtwobhU7Ary"
      },
      "outputs": [],
      "execution_count": null
    },
    {
      "cell_type": "code",
      "source": [],
      "metadata": {
        "id": "BeVeX8sZ7Ar2"
      },
      "outputs": [],
      "execution_count": null
    }
  ]
}